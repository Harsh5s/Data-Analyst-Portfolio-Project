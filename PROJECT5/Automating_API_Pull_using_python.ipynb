{
  "cells": [
    {
      "cell_type": "markdown",
      "metadata": {
        "id": "OkC-NwATuBi1"
      },
      "source": [
        "AUTOMATING CRYPTO API PULL USING PYTHON"
      ]
    },
    {
      "cell_type": "code",
      "execution_count": null,
      "metadata": {
        "id": "tvUgiqM9i4gj"
      },
      "outputs": [],
      "source": [
        "from requests import Request, Session\n",
        "from requests.exceptions import ConnectionError, Timeout, TooManyRedirects\n",
        "import json\n",
        "\n",
        "url = 'https://pro-api.coinmarketcap.com/v1/cryptocurrency/listings/latest'\n",
        "#Original Sandbox Environment: 'https://sandbox-api.coinmarketcap.com/v1/cryptocurrency/listings/latest'\n",
        "parameters = {\n",
        "  'start':'1',\n",
        "  'limit':'5000',\n",
        "  'convert':'USD'\n",
        "}\n",
        "headers = {\n",
        "  'Accepts': 'application/json',\n",
        "  'X-CMC_PRO_API_KEY': '0ad53085-1cb2-4eb8-ad9e-3ffbd7e56509',\n",
        "}\n",
        "\n",
        "session = Session()\n",
        "session.headers.update(headers)\n",
        "\n",
        "try:\n",
        "  response = session.get(url, params=parameters)\n",
        "  data = json.loads(response.text)\n",
        "  #print(data)\n",
        "except (ConnectionError, Timeout, TooManyRedirects) as e:\n",
        "  print(e)\n"
      ]
    },
    {
      "cell_type": "code",
      "execution_count": null,
      "metadata": {
        "colab": {
          "base_uri": "https://localhost:8080/"
        },
        "id": "cvhKm0UD4Xiq",
        "outputId": "9805abbd-b143-4e3a-ccd4-e600d91ecbad"
      },
      "outputs": [],
      "source": [
        "type(data)"
      ]
    },
    {
      "cell_type": "code",
      "execution_count": null,
      "metadata": {
        "id": "jO0-yzoK4h2o"
      },
      "outputs": [],
      "source": [
        "import pandas as pd\n",
        "\n",
        "\n",
        "#This allows you to see all the columns, not just like 15\n",
        "pd.set_option('display.max_columns', None)\n",
        "pd.set_option('display.max_rows', None)"
      ]
    },
    {
      "cell_type": "code",
      "execution_count": null,
      "metadata": {
        "colab": {
          "base_uri": "https://localhost:8080/",
          "height": 1000
        },
        "id": "38rYNrav4pAL",
        "outputId": "96d5d64f-c8c2-4197-fdf3-a91f13de6d17"
      },
      "outputs": [],
      "source": [
        "#This normalizes the data and makes it all pretty in a dataframe\n",
        "\n",
        "df = pd.json_normalize(data['data'])\n",
        "df['timestamp'] = pd.to_datetime('now')\n",
        "df"
      ]
    },
    {
      "cell_type": "code",
      "execution_count": null,
      "metadata": {
        "colab": {
          "base_uri": "https://localhost:8080/",
          "height": 228
        },
        "id": "7LmXaFHEB3XH",
        "outputId": "e38e8d52-a346-4086-e5f7-a25065d7cee6"
      },
      "outputs": [],
      "source": [
        "import os\n",
        "from time import time\n",
        "from time import sleep\n",
        "import pandas as pd\n",
        "\n",
        "# Initialize df as an empty DataFrame\n",
        "df = pd.DataFrame()\n",
        "\n",
        "def api_runner():\n",
        "    global df\n",
        "    url = 'https://pro-api.coinmarketcap.com/v1/cryptocurrency/listings/latest'\n",
        "    #Original Sandbox Environment: 'https://sandbox-api.coinmarketcap.com/v1/cryptocurrency/listings/latest'\n",
        "    parameters = {\n",
        "      'start':'1',\n",
        "      'limit':'15',\n",
        "      'convert':'USD'\n",
        "    }\n",
        "    headers = {\n",
        "      'Accepts': 'application/json',\n",
        "      'X-CMC_PRO_API_KEY': '0ad53085-1cb2-4eb8-ad9e-3ffbd7e56509',\n",
        "    }\n",
        "\n",
        "    session = Session()\n",
        "    session.headers.update(headers)\n",
        "\n",
        "    try:\n",
        "      response = session.get(url, params=parameters)\n",
        "      data = json.loads(response.text)\n",
        "      #print(data)\n",
        "    except (ConnectionError, Timeout, TooManyRedirects) as e:\n",
        "      print(e)\n",
        "\n",
        "\n",
        "    # Use this if you just want to keep it in a dataframe\n",
        "    df2 = pd.json_normalize(data['data'])\n",
        "    df2['Timestamp'] = pd.to_datetime('now')\n",
        "    df = pd.concat([df,df2]) # Now df is a DataFrame and can be concatenated\n",
        "\n",
        "    if not os.path.isfile(r'API.csv'):\n",
        "        df.to_csv(r'API.csv', header='column_names')\n",
        "    else:\n",
        "          df.to_csv(r'API.csv', mode='a', header=False)\n",
        "\n",
        "for i in range(333):\n",
        "    api_runner()\n",
        "    print('API Runner completed')\n",
        "    sleep(60) #sleep for 1 minute\n",
        "exit()"
      ]
    },
    {
      "cell_type": "code",
      "execution_count": null,
      "metadata": {
        "colab": {
          "base_uri": "https://localhost:8080/",
          "height": 1000
        },
        "id": "CucRuHYF6HSe",
        "outputId": "5d61f512-f20c-47ab-84f1-0082debbaef8"
      },
      "outputs": [],
      "source": [
        "df"
      ]
    },
    {
      "cell_type": "code",
      "execution_count": null,
      "metadata": {
        "colab": {
          "base_uri": "https://localhost:8080/",
          "height": 1000
        },
        "id": "h8bYFbij7u05",
        "outputId": "313a9b62-0408-42b5-f1d2-73cb051253c5"
      },
      "outputs": [],
      "source": [
        "df72 = pd.read_csv(r'API.csv')\n",
        "df72"
      ]
    },
    {
      "cell_type": "code",
      "execution_count": null,
      "metadata": {
        "id": "ugWbB76KDOC4"
      },
      "outputs": [],
      "source": [
        "pd.set_option('display.float_format', lambda x: '%.5f' % x)"
      ]
    },
    {
      "cell_type": "code",
      "execution_count": null,
      "metadata": {
        "colab": {
          "base_uri": "https://localhost:8080/",
          "height": 1000
        },
        "id": "nbVzx_AIpydc",
        "outputId": "9f0add7d-d434-442a-ff96-8399fd6361ae"
      },
      "outputs": [],
      "source": [
        "df"
      ]
    },
    {
      "cell_type": "code",
      "execution_count": null,
      "metadata": {
        "colab": {
          "base_uri": "https://localhost:8080/",
          "height": 605
        },
        "id": "1LKLAQiJDm3g",
        "outputId": "933d5569-8168-4053-c543-ffc4376a8f37"
      },
      "outputs": [],
      "source": [
        "df3 = df.groupby('name', sort=False)[['quote.USD.percent_change_1h','quote.USD.percent_change_24h','quote.USD.percent_change_7d','quote.USD.percent_change_30d','quote.USD.percent_change_60d','quote.USD.percent_change_90d']].mean()\n",
        "df3\n"
      ]
    },
    {
      "cell_type": "code",
      "execution_count": null,
      "metadata": {
        "colab": {
          "base_uri": "https://localhost:8080/"
        },
        "id": "shKkzffNKQDv",
        "outputId": "7fc00438-a9b0-43e9-bdf4-9980a2ce7abb"
      },
      "outputs": [],
      "source": [
        "df4 = df3.stack()\n",
        "df4"
      ]
    },
    {
      "cell_type": "code",
      "execution_count": null,
      "metadata": {
        "colab": {
          "base_uri": "https://localhost:8080/",
          "height": 203
        },
        "id": "1zbfg_KzKgh7",
        "outputId": "4f3184d2-8b60-4997-f75e-da1830567f32"
      },
      "outputs": [],
      "source": [
        "type(df4)"
      ]
    },
    {
      "cell_type": "code",
      "execution_count": null,
      "metadata": {
        "colab": {
          "base_uri": "https://localhost:8080/",
          "height": 1000
        },
        "id": "EbfStz-qKySt",
        "outputId": "0c29dd3a-90e5-4187-b822-bf76d137960c"
      },
      "outputs": [],
      "source": [
        "df5 = df4.to_frame(name='values')\n",
        "df5"
      ]
    },
    {
      "cell_type": "code",
      "execution_count": null,
      "metadata": {
        "colab": {
          "base_uri": "https://localhost:8080/"
        },
        "id": "OQcn1YV-K7gq",
        "outputId": "1bb7b982-da91-4ff0-9bde-61c342b8bfcc"
      },
      "outputs": [],
      "source": [
        "df5.count()"
      ]
    },
    {
      "cell_type": "code",
      "execution_count": null,
      "metadata": {
        "colab": {
          "base_uri": "https://localhost:8080/",
          "height": 1000
        },
        "id": "uacVxYiwLIvO",
        "outputId": "4e85d62d-9901-41cb-8052-584d43daefc2"
      },
      "outputs": [],
      "source": [
        "index = pd.Index(range(90))\n",
        "\n",
        "# Set the above DataFrame index object as the index\n",
        "# using set_index() function\n",
        "df6 = df5.reset_index()\n",
        "df6"
      ]
    },
    {
      "cell_type": "code",
      "execution_count": null,
      "metadata": {
        "colab": {
          "base_uri": "https://localhost:8080/",
          "height": 1000
        },
        "id": "5SuLq99PLUIc",
        "outputId": "60450ddb-c703-468e-f3bb-47244ee379c4"
      },
      "outputs": [],
      "source": [
        "# Change the column name\n",
        "\n",
        "df7 = df6.rename(columns={'level_1': 'percent_change'})\n",
        "df7"
      ]
    },
    {
      "cell_type": "code",
      "execution_count": null,
      "metadata": {
        "colab": {
          "base_uri": "https://localhost:8080/",
          "height": 1000
        },
        "id": "fnfkFbP5TYBU",
        "outputId": "4fcd21ba-32de-4ac6-9cab-c211d1bbdd12"
      },
      "outputs": [],
      "source": [
        "df7['percent_change'] = df7['percent_change'].replace(['quote.USD.percent_change_1h'],['1h'])\n",
        "df7"
      ]
    },
    {
      "cell_type": "code",
      "execution_count": null,
      "metadata": {
        "id": "deG8UZYmNHD1"
      },
      "outputs": [],
      "source": [
        "import seaborn as sns\n",
        "import matplotlib.pyplot as plt"
      ]
    },
    {
      "cell_type": "code",
      "execution_count": null,
      "metadata": {
        "colab": {
          "base_uri": "https://localhost:8080/",
          "height": 518
        },
        "id": "rYTEgSBrqhim",
        "outputId": "8b46b7a7-4d86-4d41-b5f9-263f3c7d4d50"
      },
      "outputs": [],
      "source": [
        "sns.catplot(x='percent_change', y='values', hue='name', data=df7, kind='point')"
      ]
    },
    {
      "cell_type": "code",
      "execution_count": null,
      "metadata": {
        "colab": {
          "base_uri": "https://localhost:8080/",
          "height": 125
        },
        "id": "Yi8hWd6-S9-s",
        "outputId": "480acc49-2a60-4ea6-ce5d-e6fe78786d8e"
      },
      "outputs": [],
      "source": [
        "df10 = df[['name','quote.USD.price','Timestamp']]\n",
        "df10 = df10.query(\"name == 'Bitcoin'\")\n",
        "df10"
      ]
    },
    {
      "cell_type": "code",
      "execution_count": null,
      "metadata": {
        "colab": {
          "base_uri": "https://localhost:8080/",
          "height": 475
        },
        "id": "4rCbj3J8W6HS",
        "outputId": "746ef86e-dab6-4359-c9ae-b823034c0814"
      },
      "outputs": [],
      "source": [
        "sns.set_theme(style=\"darkgrid\")\n",
        "\n",
        "sns.lineplot(x='Timestamp', y='quote.USD.price', data = df10)"
      ]
    }
  ],
  "metadata": {
    "colab": {
      "provenance": []
    },
    "kernelspec": {
      "display_name": "Python 3",
      "name": "python3"
    },
    "language_info": {
      "name": "python"
    }
  },
  "nbformat": 4,
  "nbformat_minor": 0
}
